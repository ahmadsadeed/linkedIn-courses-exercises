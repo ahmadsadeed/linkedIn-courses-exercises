{
 "cells": [
  {
   "cell_type": "markdown",
   "metadata": {},
   "source": [
    "## Boosting: Fit and evaluate a model\n",
    "\n",
    "Using the Titanic dataset from [this](https://www.kaggle.com/c/titanic/overview) Kaggle competition.\n",
    "\n",
    "In this section, we will fit and evaluate a simple Gradient Boosting model."
   ]
  },
  {
   "cell_type": "markdown",
   "metadata": {},
   "source": [
    "### Read in Data"
   ]
  },
  {
   "cell_type": "code",
   "execution_count": 1,
   "metadata": {},
   "outputs": [],
   "source": [
    "import joblib\n",
    "import pandas as pd\n",
    "from sklearn.ensemble import GradientBoostingClassifier\n",
    "from sklearn.model_selection import GridSearchCV\n",
    "import warnings\n",
    "warnings.filterwarnings('ignore', category=FutureWarning)\n",
    "warnings.filterwarnings('ignore', category=DeprecationWarning)\n",
    "\n",
    "tr_features = pd.read_csv('data/train_features.csv')\n",
    "tr_labels = pd.read_csv('data/train_labels.csv', header=None)"
   ]
  },
  {
   "cell_type": "markdown",
   "metadata": {},
   "source": [
    "### Hyperparameter tuning\n",
    "\n",
    "![GB](img/gb.png)"
   ]
  },
  {
   "cell_type": "code",
   "execution_count": 2,
   "metadata": {},
   "outputs": [],
   "source": [
    "def print_results(results):\n",
    "    print('BEST PARAMS: {}\\n'.format(results.best_params_))\n",
    "\n",
    "    means = results.cv_results_['mean_test_score']\n",
    "    stds = results.cv_results_['std_test_score']\n",
    "    for mean, std, params in zip(means, stds, results.cv_results_['params']):\n",
    "        print('{} (+/-{}) for {}'.format(round(mean, 3), round(std * 2, 3), params))"
   ]
  },
  {
   "cell_type": "code",
   "execution_count": 3,
   "metadata": {},
   "outputs": [
    {
     "name": "stdout",
     "output_type": "stream",
     "text": [
      "BEST PARAMS: {'learning_rate': 0.01, 'max_depth': 3, 'n_estimators': 500}\n",
      "\n",
      "0.624 (+/-0.005) for {'learning_rate': 0.01, 'max_depth': 1, 'n_estimators': 5}\n",
      "0.796 (+/-0.116) for {'learning_rate': 0.01, 'max_depth': 1, 'n_estimators': 50}\n",
      "0.796 (+/-0.116) for {'learning_rate': 0.01, 'max_depth': 1, 'n_estimators': 250}\n",
      "0.811 (+/-0.118) for {'learning_rate': 0.01, 'max_depth': 1, 'n_estimators': 500}\n",
      "0.624 (+/-0.005) for {'learning_rate': 0.01, 'max_depth': 3, 'n_estimators': 5}\n",
      "0.811 (+/-0.071) for {'learning_rate': 0.01, 'max_depth': 3, 'n_estimators': 50}\n",
      "0.83 (+/-0.076) for {'learning_rate': 0.01, 'max_depth': 3, 'n_estimators': 250}\n",
      "0.839 (+/-0.086) for {'learning_rate': 0.01, 'max_depth': 3, 'n_estimators': 500}\n",
      "0.624 (+/-0.005) for {'learning_rate': 0.01, 'max_depth': 5, 'n_estimators': 5}\n",
      "0.818 (+/-0.051) for {'learning_rate': 0.01, 'max_depth': 5, 'n_estimators': 50}\n",
      "0.82 (+/-0.039) for {'learning_rate': 0.01, 'max_depth': 5, 'n_estimators': 250}\n",
      "0.824 (+/-0.034) for {'learning_rate': 0.01, 'max_depth': 5, 'n_estimators': 500}\n",
      "0.624 (+/-0.005) for {'learning_rate': 0.01, 'max_depth': 7, 'n_estimators': 5}\n",
      "0.818 (+/-0.054) for {'learning_rate': 0.01, 'max_depth': 7, 'n_estimators': 50}\n",
      "0.816 (+/-0.025) for {'learning_rate': 0.01, 'max_depth': 7, 'n_estimators': 250}\n",
      "0.8 (+/-0.02) for {'learning_rate': 0.01, 'max_depth': 7, 'n_estimators': 500}\n",
      "0.624 (+/-0.005) for {'learning_rate': 0.01, 'max_depth': 9, 'n_estimators': 5}\n",
      "0.801 (+/-0.055) for {'learning_rate': 0.01, 'max_depth': 9, 'n_estimators': 50}\n",
      "0.803 (+/-0.034) for {'learning_rate': 0.01, 'max_depth': 9, 'n_estimators': 250}\n",
      "0.783 (+/-0.026) for {'learning_rate': 0.01, 'max_depth': 9, 'n_estimators': 500}\n",
      "0.796 (+/-0.116) for {'learning_rate': 0.1, 'max_depth': 1, 'n_estimators': 5}\n",
      "0.815 (+/-0.12) for {'learning_rate': 0.1, 'max_depth': 1, 'n_estimators': 50}\n",
      "0.818 (+/-0.112) for {'learning_rate': 0.1, 'max_depth': 1, 'n_estimators': 250}\n",
      "0.828 (+/-0.093) for {'learning_rate': 0.1, 'max_depth': 1, 'n_estimators': 500}\n",
      "0.813 (+/-0.073) for {'learning_rate': 0.1, 'max_depth': 3, 'n_estimators': 5}\n",
      "0.835 (+/-0.082) for {'learning_rate': 0.1, 'max_depth': 3, 'n_estimators': 50}\n",
      "0.83 (+/-0.04) for {'learning_rate': 0.1, 'max_depth': 3, 'n_estimators': 250}\n",
      "0.811 (+/-0.03) for {'learning_rate': 0.1, 'max_depth': 3, 'n_estimators': 500}\n",
      "0.811 (+/-0.049) for {'learning_rate': 0.1, 'max_depth': 5, 'n_estimators': 5}\n",
      "0.824 (+/-0.017) for {'learning_rate': 0.1, 'max_depth': 5, 'n_estimators': 50}\n",
      "0.8 (+/-0.063) for {'learning_rate': 0.1, 'max_depth': 5, 'n_estimators': 250}\n",
      "0.811 (+/-0.048) for {'learning_rate': 0.1, 'max_depth': 5, 'n_estimators': 500}\n",
      "0.818 (+/-0.05) for {'learning_rate': 0.1, 'max_depth': 7, 'n_estimators': 5}\n",
      "0.792 (+/-0.039) for {'learning_rate': 0.1, 'max_depth': 7, 'n_estimators': 50}\n",
      "0.792 (+/-0.034) for {'learning_rate': 0.1, 'max_depth': 7, 'n_estimators': 250}\n",
      "0.798 (+/-0.037) for {'learning_rate': 0.1, 'max_depth': 7, 'n_estimators': 500}\n",
      "0.803 (+/-0.049) for {'learning_rate': 0.1, 'max_depth': 9, 'n_estimators': 5}\n",
      "0.788 (+/-0.033) for {'learning_rate': 0.1, 'max_depth': 9, 'n_estimators': 50}\n",
      "0.792 (+/-0.023) for {'learning_rate': 0.1, 'max_depth': 9, 'n_estimators': 250}\n",
      "0.792 (+/-0.052) for {'learning_rate': 0.1, 'max_depth': 9, 'n_estimators': 500}\n",
      "0.818 (+/-0.1) for {'learning_rate': 1, 'max_depth': 1, 'n_estimators': 5}\n",
      "0.83 (+/-0.078) for {'learning_rate': 1, 'max_depth': 1, 'n_estimators': 50}\n",
      "0.828 (+/-0.069) for {'learning_rate': 1, 'max_depth': 1, 'n_estimators': 250}\n",
      "0.818 (+/-0.082) for {'learning_rate': 1, 'max_depth': 1, 'n_estimators': 500}\n",
      "0.824 (+/-0.059) for {'learning_rate': 1, 'max_depth': 3, 'n_estimators': 5}\n",
      "0.8 (+/-0.027) for {'learning_rate': 1, 'max_depth': 3, 'n_estimators': 50}\n",
      "0.8 (+/-0.045) for {'learning_rate': 1, 'max_depth': 3, 'n_estimators': 250}\n",
      "0.803 (+/-0.043) for {'learning_rate': 1, 'max_depth': 3, 'n_estimators': 500}\n",
      "0.811 (+/-0.027) for {'learning_rate': 1, 'max_depth': 5, 'n_estimators': 5}\n",
      "0.801 (+/-0.063) for {'learning_rate': 1, 'max_depth': 5, 'n_estimators': 50}\n",
      "0.805 (+/-0.061) for {'learning_rate': 1, 'max_depth': 5, 'n_estimators': 250}\n",
      "0.798 (+/-0.084) for {'learning_rate': 1, 'max_depth': 5, 'n_estimators': 500}\n",
      "0.785 (+/-0.02) for {'learning_rate': 1, 'max_depth': 7, 'n_estimators': 5}\n",
      "0.798 (+/-0.051) for {'learning_rate': 1, 'max_depth': 7, 'n_estimators': 50}\n",
      "0.803 (+/-0.032) for {'learning_rate': 1, 'max_depth': 7, 'n_estimators': 250}\n",
      "0.796 (+/-0.055) for {'learning_rate': 1, 'max_depth': 7, 'n_estimators': 500}\n",
      "0.781 (+/-0.017) for {'learning_rate': 1, 'max_depth': 9, 'n_estimators': 5}\n",
      "0.779 (+/-0.064) for {'learning_rate': 1, 'max_depth': 9, 'n_estimators': 50}\n",
      "0.8 (+/-0.057) for {'learning_rate': 1, 'max_depth': 9, 'n_estimators': 250}\n",
      "0.79 (+/-0.034) for {'learning_rate': 1, 'max_depth': 9, 'n_estimators': 500}\n",
      "0.204 (+/-0.116) for {'learning_rate': 10, 'max_depth': 1, 'n_estimators': 5}\n",
      "0.204 (+/-0.116) for {'learning_rate': 10, 'max_depth': 1, 'n_estimators': 50}\n",
      "0.204 (+/-0.116) for {'learning_rate': 10, 'max_depth': 1, 'n_estimators': 250}\n",
      "0.204 (+/-0.116) for {'learning_rate': 10, 'max_depth': 1, 'n_estimators': 500}\n",
      "0.311 (+/-0.192) for {'learning_rate': 10, 'max_depth': 3, 'n_estimators': 5}\n",
      "0.311 (+/-0.192) for {'learning_rate': 10, 'max_depth': 3, 'n_estimators': 50}\n",
      "0.311 (+/-0.192) for {'learning_rate': 10, 'max_depth': 3, 'n_estimators': 250}\n",
      "0.311 (+/-0.192) for {'learning_rate': 10, 'max_depth': 3, 'n_estimators': 500}\n",
      "0.551 (+/-0.362) for {'learning_rate': 10, 'max_depth': 5, 'n_estimators': 5}\n",
      "0.404 (+/-0.217) for {'learning_rate': 10, 'max_depth': 5, 'n_estimators': 50}\n",
      "0.446 (+/-0.313) for {'learning_rate': 10, 'max_depth': 5, 'n_estimators': 250}\n",
      "0.442 (+/-0.313) for {'learning_rate': 10, 'max_depth': 5, 'n_estimators': 500}\n",
      "0.64 (+/-0.193) for {'learning_rate': 10, 'max_depth': 7, 'n_estimators': 5}\n",
      "0.614 (+/-0.17) for {'learning_rate': 10, 'max_depth': 7, 'n_estimators': 50}\n",
      "0.609 (+/-0.163) for {'learning_rate': 10, 'max_depth': 7, 'n_estimators': 250}\n",
      "0.599 (+/-0.168) for {'learning_rate': 10, 'max_depth': 7, 'n_estimators': 500}\n",
      "0.721 (+/-0.136) for {'learning_rate': 10, 'max_depth': 9, 'n_estimators': 5}\n",
      "0.697 (+/-0.129) for {'learning_rate': 10, 'max_depth': 9, 'n_estimators': 50}\n",
      "0.708 (+/-0.12) for {'learning_rate': 10, 'max_depth': 9, 'n_estimators': 250}\n",
      "0.712 (+/-0.147) for {'learning_rate': 10, 'max_depth': 9, 'n_estimators': 500}\n",
      "0.376 (+/-0.005) for {'learning_rate': 100, 'max_depth': 1, 'n_estimators': 5}\n",
      "0.376 (+/-0.005) for {'learning_rate': 100, 'max_depth': 1, 'n_estimators': 50}\n",
      "0.376 (+/-0.005) for {'learning_rate': 100, 'max_depth': 1, 'n_estimators': 250}\n",
      "0.376 (+/-0.005) for {'learning_rate': 100, 'max_depth': 1, 'n_estimators': 500}\n",
      "0.29 (+/-0.104) for {'learning_rate': 100, 'max_depth': 3, 'n_estimators': 5}\n",
      "0.29 (+/-0.104) for {'learning_rate': 100, 'max_depth': 3, 'n_estimators': 50}\n",
      "0.29 (+/-0.104) for {'learning_rate': 100, 'max_depth': 3, 'n_estimators': 250}\n",
      "0.29 (+/-0.104) for {'learning_rate': 100, 'max_depth': 3, 'n_estimators': 500}\n",
      "0.365 (+/-0.17) for {'learning_rate': 100, 'max_depth': 5, 'n_estimators': 5}\n",
      "0.38 (+/-0.176) for {'learning_rate': 100, 'max_depth': 5, 'n_estimators': 50}\n",
      "0.373 (+/-0.173) for {'learning_rate': 100, 'max_depth': 5, 'n_estimators': 250}\n",
      "0.382 (+/-0.184) for {'learning_rate': 100, 'max_depth': 5, 'n_estimators': 500}\n",
      "0.552 (+/-0.133) for {'learning_rate': 100, 'max_depth': 7, 'n_estimators': 5}\n",
      "0.588 (+/-0.104) for {'learning_rate': 100, 'max_depth': 7, 'n_estimators': 50}\n",
      "0.558 (+/-0.117) for {'learning_rate': 100, 'max_depth': 7, 'n_estimators': 250}\n",
      "0.564 (+/-0.122) for {'learning_rate': 100, 'max_depth': 7, 'n_estimators': 500}\n",
      "0.67 (+/-0.083) for {'learning_rate': 100, 'max_depth': 9, 'n_estimators': 5}\n",
      "0.654 (+/-0.086) for {'learning_rate': 100, 'max_depth': 9, 'n_estimators': 50}\n",
      "0.682 (+/-0.104) for {'learning_rate': 100, 'max_depth': 9, 'n_estimators': 250}\n",
      "0.639 (+/-0.066) for {'learning_rate': 100, 'max_depth': 9, 'n_estimators': 500}\n"
     ]
    }
   ],
   "source": [
    "gb = GradientBoostingClassifier()\n",
    "parameters = {\n",
    "    'n_estimators': [5, 50, 250, 500],\n",
    "    'max_depth': [1, 3, 5, 7, 9],\n",
    "    'learning_rate': [0.01, 0.1, 1, 10, 100]\n",
    "}\n",
    "\n",
    "cv = GridSearchCV(gb, parameters, cv=5)\n",
    "cv.fit(tr_features, tr_labels.values.ravel())\n",
    "\n",
    "print_results(cv)"
   ]
  },
  {
   "cell_type": "markdown",
   "metadata": {},
   "source": [
    "### Write out pickled model"
   ]
  },
  {
   "cell_type": "code",
   "execution_count": 4,
   "metadata": {},
   "outputs": [
    {
     "data": {
      "text/plain": [
       "['data/GB_model.pkl']"
      ]
     },
     "execution_count": 4,
     "metadata": {},
     "output_type": "execute_result"
    }
   ],
   "source": [
    "joblib.dump(cv.best_estimator_, 'data/GB_model.pkl')"
   ]
  }
 ],
 "metadata": {
  "kernelspec": {
   "display_name": "Python 3",
   "language": "python",
   "name": "python3"
  },
  "language_info": {
   "codemirror_mode": {
    "name": "ipython",
    "version": 3
   },
   "file_extension": ".py",
   "mimetype": "text/x-python",
   "name": "python",
   "nbconvert_exporter": "python",
   "pygments_lexer": "ipython3",
   "version": "3.7.4"
  },
  "toc": {
   "base_numbering": 1,
   "nav_menu": {},
   "number_sections": true,
   "sideBar": true,
   "skip_h1_title": false,
   "title_cell": "Table of Contents",
   "title_sidebar": "Contents",
   "toc_cell": false,
   "toc_position": {},
   "toc_section_display": true,
   "toc_window_display": false
  },
  "varInspector": {
   "cols": {
    "lenName": 16,
    "lenType": 16,
    "lenVar": 40
   },
   "kernels_config": {
    "python": {
     "delete_cmd_postfix": "",
     "delete_cmd_prefix": "del ",
     "library": "var_list.py",
     "varRefreshCmd": "print(var_dic_list())"
    },
    "r": {
     "delete_cmd_postfix": ") ",
     "delete_cmd_prefix": "rm(",
     "library": "var_list.r",
     "varRefreshCmd": "cat(var_dic_list()) "
    }
   },
   "types_to_exclude": [
    "module",
    "function",
    "builtin_function_or_method",
    "instance",
    "_Feature"
   ],
   "window_display": false
  }
 },
 "nbformat": 4,
 "nbformat_minor": 2
}
